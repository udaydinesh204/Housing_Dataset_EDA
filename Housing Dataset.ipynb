{
 "cells": [
  {
   "cell_type": "markdown",
   "id": "a46a08bd",
   "metadata": {},
   "source": [
    "# Property price Indian cities dataset"
   ]
  },
  {
   "cell_type": "markdown",
   "id": "33081248",
   "metadata": {},
   "source": [
    "### About Dataset\n",
    "This dataset was scraped from one of the housing website called as makaan.com. Makaan.com has quickly emerged as the preferred partner for consumers looking to rent, buy or sell a home. Makaan.com offers its online consumers maximum property options and has become one of the largest advertising platforms in online real estate in India.\n",
    "\n",
    "### Some Key Details\n",
    "\n",
    "Property_Name            :Property Holder Name                                                                                 \n",
    "Property_id              :Property Holder Unique ID number                                                                     \n",
    "Property_type            :Types of Property                   \n",
    "Property_status          :Status of Property            \n",
    "Price_per_unit_area      :Price per unit area in rupees              \n",
    "Posted_On                :It's about when they posted poject on website                                                         \n",
    "Project_URL              :The link of the project                  \n",
    "builder_id               :Builder Unique ID number            \n",
    "Builder_name             :Builder Name           \n",
    "Property_building_status :About building status Active or Inactive        \n",
    "City_id                  :City ID number                 \n",
    "City_name                :City name      \n",
    "No_of_BHK                :Number of BHK                  \n",
    "Locality_ID              :Locality ID number               \n",
    "Locality_Name            :Locality name                  \n",
    "Longitude                :Longitude of area                  \n",
    "Latitude                 :Latitude of area                 \n",
    "Price                    :Price of property                 \n",
    "Size                     :Size of property                   \n",
    "Sub_urban_ID             :Sub urban ID number                  \n",
    "Sub_urban_name           :Sub urban name                  \n",
    "description              :Description about property                 \n",
    "is_furnished             :How many are furnished                 \n",
    "listing_domain_score     :Score of domain             \n",
    "is_plot                  : Whether it is plotted or not                \n",
    "is_RERA_registered       :RERA Registered             \n",
    "is_Apartment             :Whether it is apartment or not                  \n",
    "is_ready_to_move         :How many are ready to move               \n",
    "is_commercial_Listing    :The property is commercial or not.          \n",
    "is_PentaHouse            :The property is pent house or not                  \n",
    "is_studio                :The property is studio or not                     \n",
    "Listing_Category         :Whether the property is available or not"
   ]
  },
  {
   "cell_type": "markdown",
   "id": "3d98ec64",
   "metadata": {},
   "source": [
    "## What insights do I hope to glean from this data?\n",
    "•\tHow to read the flies , last five rows , first five rows ? Describe, size and information of dataset?\n",
    "\n",
    "•\tIdentifying the null values and removing with certain methods.\n",
    "\n",
    "•\t How many properties are there in each city?\n",
    "\n",
    "•\tWhat are the Top 25 No. of Properties by Price per unit area ? \n",
    "\n",
    "•\tHow many properties are there in between certain square feets?\n",
    "\n",
    "•\tHow much percentage of apartments are there in given dataset?\n",
    "\n",
    "•\tHow many properties are there in each BHK?\n",
    "\n",
    "•\tDomain Score of properties in given dataset.\n",
    "\n",
    "•\tWhat type of properties data set have ?\n",
    "\n",
    "•\tWhat are properties status in each city ?\n",
    "\n",
    "•\tHow many are furnished and RERA registered in each city?\n",
    "\n",
    "•\tComparing Price of properties in each city?\n",
    "\n",
    "•\tComparing prices of apartments and BHKs in each city?\n",
    "\n",
    "•\tTop 25 locality areas with locations.\n"
   ]
  },
  {
   "cell_type": "markdown",
   "id": "e5ae52b4",
   "metadata": {},
   "source": [
    "![citiesUrl](https://media4.giphy.com/media/3ofSB2Lh7XIlGDL1NC/giphy.gif)"
   ]
  },
  {
   "cell_type": "code",
   "execution_count": null,
   "id": "cc737de2",
   "metadata": {},
   "outputs": [],
   "source": [
    "import pandas as pd\n",
    "import numpy as np\n",
    "import matplotlib.pyplot as plt\n",
    "from matplotlib import pyplot \n",
    "import seaborn as sns\n",
    "import plotly\n",
    "import plotly.express as px\n",
    "import plotly.graph_objects as go\n",
    "import missingno as msno\n",
    "import warnings\n",
    "warnings.filterwarnings('ignore')\n"
   ]
  },
  {
   "cell_type": "markdown",
   "id": "6f802d12",
   "metadata": {},
   "source": [
    "•\tThere are various other methods to read different types of files, such as read_csv(), read_json(), read_html(), read_excel(), etc which can be easily used as per the requirement.\n",
    "\n",
    "\n",
    "•\thead() returns the first n rows(observe the index values). The default number of elements to display is five, but you may pass a custom number. \n"
   ]
  },
  {
   "cell_type": "code",
   "execution_count": null,
   "id": "f71503be",
   "metadata": {
    "scrolled": true
   },
   "outputs": [],
   "source": [
    "df = pd.read_csv('Makaan_Properties_Buy.csv')\n",
    "df.head()"
   ]
  },
  {
   "cell_type": "markdown",
   "id": "dfa5d545",
   "metadata": {},
   "source": [
    "•\ttail() returns the last n rows(observe the index values). The default number of elements to display is five, but you may pass a custom number."
   ]
  },
  {
   "cell_type": "code",
   "execution_count": null,
   "id": "d16be413",
   "metadata": {
    "scrolled": true
   },
   "outputs": [],
   "source": [
    "df.tail()"
   ]
  },
  {
   "cell_type": "markdown",
   "id": "2e5bbc17",
   "metadata": {},
   "source": [
    "•\tTo get the shape of Pandas DataFrame, use ‘df. Shape’. The shape property returns a tuple representing the dimensionality of the DataFrame. The format of shape would be (rows, columns)."
   ]
  },
  {
   "cell_type": "code",
   "execution_count": null,
   "id": "b98f7798",
   "metadata": {},
   "outputs": [],
   "source": [
    "df.shape"
   ]
  },
  {
   "cell_type": "markdown",
   "id": "0588e3e4",
   "metadata": {},
   "source": [
    "•\t‘df.info()’.The info() method prints information about the DataFrame. The information contains the number of columns, column labels, column data types, memory usage, range index, and the number of cells in each column (non-null values). Note: the info() method actually prints the info."
   ]
  },
  {
   "cell_type": "code",
   "execution_count": null,
   "id": "f6c65ff8",
   "metadata": {},
   "outputs": [],
   "source": [
    "df.info()"
   ]
  },
  {
   "cell_type": "markdown",
   "id": "3221beb5",
   "metadata": {},
   "source": [
    "### Coverting Data Types\n",
    "Python defines type conversion functions to directly convert one data type to another which is useful to do Statistical analysis. \n",
    "Some are there in string datatype I have converted into float datatype. \n",
    "\n",
    "\n",
    "The Cloumns I have changed(Object to Float) are : \n",
    "No_of_BHK , Price , Price_per_unit_area , Size.\n"
   ]
  },
  {
   "cell_type": "code",
   "execution_count": null,
   "id": "c331d620",
   "metadata": {},
   "outputs": [],
   "source": [
    "df['No_of_BHK'] = df['No_of_BHK'].apply(lambda x: float(x.split()[0].replace('BHK', '')))\n",
    "df['Price'] = df['Price'].apply(lambda x: float(x.split()[0].replace(',', '')))\n",
    "df['Price_per_unit_area'] = df['Price_per_unit_area'].apply(lambda x: float(x.split()[0].replace(',', '')))"
   ]
  },
  {
   "cell_type": "code",
   "execution_count": null,
   "id": "9783de03",
   "metadata": {},
   "outputs": [],
   "source": [
    "df['Size'] = df['Size'].apply(lambda x: str(x.split()[0].replace(',','')))\n",
    "df['Size'] = df['Size'].apply(lambda x: str(x.split()[0].replace('sq ft','')))\n",
    "df['Size'] = df['Size'].astype(float)"
   ]
  },
  {
   "cell_type": "markdown",
   "id": "2320d1f2",
   "metadata": {},
   "source": [
    "After Converting Data Types"
   ]
  },
  {
   "cell_type": "code",
   "execution_count": null,
   "id": "c19bd0ec",
   "metadata": {
    "scrolled": true
   },
   "outputs": [],
   "source": [
    "df.info()"
   ]
  },
  {
   "cell_type": "markdown",
   "id": "a0c07a44",
   "metadata": {},
   "source": [
    "•\tThe describe() method returns description of the data in the DataFrame. If the DataFrame contains numerical data, the description contains these information for each column: count - The number of not-empty values. mean - The average (mean) value.This includes count, mean, median (or 50th percentile) standard variation, min-max, and percentile values of columns.\n",
    "\n",
    "\n",
    "Descriptive statistics include those that summarize the central\n",
    "tendency, dispersion and shape of a\n",
    "dataset's distribution, excluding ``NaN`` values.\n",
    "\n",
    "Analyzes both numeric and object series, as well\n",
    "as ``DataFrame`` column sets of mixed data types. The output\n",
    "will vary depending on what is provided."
   ]
  },
  {
   "cell_type": "code",
   "execution_count": null,
   "id": "010fb0c0",
   "metadata": {},
   "outputs": [],
   "source": [
    "df.describe()"
   ]
  },
  {
   "cell_type": "markdown",
   "id": "b27c1abe",
   "metadata": {},
   "source": [
    "•\tYou will see the percentiles(25%, 50%, 75%..etc) and some values in front of them. The significance is to tell you the distribution of your data. 25% means 25% of your data have the value 1.0000 or below.\n"
   ]
  },
  {
   "cell_type": "markdown",
   "id": "ef01aa6c",
   "metadata": {},
   "source": [
    "## Data Cleaning\n",
    "•\tI have used Missingno library. It is simple to use Python library that provides a series of visualisations to understand the presence and distribution of missing data within a pandas dataframe. This can be in the form of either a barplot, matrix plot, heatmap, or a dendrogram.\n",
    "I have represented bar graph. This shows existing values.\n"
   ]
  },
  {
   "cell_type": "code",
   "execution_count": null,
   "id": "bddbfb50",
   "metadata": {
    "scrolled": true
   },
   "outputs": [],
   "source": [
    "msno.bar(df)"
   ]
  },
  {
   "cell_type": "markdown",
   "id": "9f57fcbb",
   "metadata": {},
   "source": [
    "•'isnull(). sum()'.It will return the count of null values in each column.It will count only the standard null values.Since sum() calculate as True=1 and False=0 , you can count the number of missing values in each row and column by calling sum() from the result of isnull() . You can count missing values in each column by default, and in each row with axis=0."
   ]
  },
  {
   "cell_type": "code",
   "execution_count": null,
   "id": "a98ad892",
   "metadata": {},
   "outputs": [],
   "source": [
    "df.isnull().sum() "
   ]
  },
  {
   "cell_type": "markdown",
   "id": "45af0efc",
   "metadata": {},
   "source": [
    "### Droping value \n",
    "\n"
   ]
  },
  {
   "cell_type": "code",
   "execution_count": null,
   "id": "f17e6a38",
   "metadata": {
    "scrolled": true
   },
   "outputs": [],
   "source": [
    "df['Locality_Name'].value_counts()"
   ]
  },
  {
   "cell_type": "markdown",
   "id": "8bb799d9",
   "metadata": {},
   "source": [
    "• I have used dropna() for Locality_Name cloumns sinces there are 2 null values.\n",
    "The dropna() method removes the rows that contains NULL values. The dropna() method returns a new DataFrame object unless the inplace parameter is set to True , in that case the dropna() method does the removing in the original DataFrame instead."
   ]
  },
  {
   "cell_type": "code",
   "execution_count": null,
   "id": "cb235ec0",
   "metadata": {},
   "outputs": [],
   "source": [
    "df.dropna(subset=['Locality_Name'],inplace = True )"
   ]
  },
  {
   "cell_type": "markdown",
   "id": "40e796fe",
   "metadata": {},
   "source": [
    "\tIn is_commercial_Listing column all are false so directly we can remove it as it is not useful in further analysis."
   ]
  },
  {
   "cell_type": "code",
   "execution_count": null,
   "id": "7e4af0d8",
   "metadata": {
    "scrolled": true
   },
   "outputs": [],
   "source": [
    "plt.figure(figsize = (10, 5))\n",
    "data = df['is_commercial_Listing'].value_counts()\n",
    "colors = sns.color_palette('icefire')\n",
    "labels = ['False']\n",
    "plt.pie(data, labels = labels, autopct = '%.0f%%', colors = colors)\n",
    "plt.title('Total percentage of commercial properties ')\n",
    "plt.tight_layout()"
   ]
  },
  {
   "cell_type": "markdown",
   "id": "36334203",
   "metadata": {},
   "source": [
    "The drop() method removes the specified row or column. By specifying the column axis ( axis='columns' ), the drop() method removes the specified column. By specifying the row axis ( axis='index' ), the drop() method removes the specified row.\n",
    "inplace=True means the operation would work on the original object. axis=1 means we are dropping the column, not the row."
   ]
  },
  {
   "cell_type": "code",
   "execution_count": null,
   "id": "4fa874d7",
   "metadata": {},
   "outputs": [],
   "source": [
    "df=df.drop('is_commercial_Listing', axis=1)"
   ]
  },
  {
   "cell_type": "markdown",
   "id": "08d2a5af",
   "metadata": {},
   "source": [
    "### Filling with NAN \n",
    "• I have filled with NAN because some columns have huge null values and they are important columns so I have replaced with NAN for further data analysis.\n",
    "\n",
    "\n",
    "The fillna() function is used to fill NA/NaN values using the specified method. Value to use to fill holes, alternately a dict/Series/DataFrame of values specifying which value to use for each index or column.\n"
   ]
  },
  {
   "cell_type": "code",
   "execution_count": null,
   "id": "7347059e",
   "metadata": {
    "scrolled": true
   },
   "outputs": [],
   "source": [
    "df1 = df[['Property_Name','Property_status']] = df[['Property_Name','Property_status']].fillna('NAN')\n",
    "print(df1)"
   ]
  },
  {
   "cell_type": "code",
   "execution_count": null,
   "id": "d4d57c22",
   "metadata": {},
   "outputs": [],
   "source": [
    "df2 = df[['builder_id','Builder_name' ]] = df[['builder_id','Builder_name' ]].fillna('NAN')\n",
    "print(df2)"
   ]
  },
  {
   "cell_type": "code",
   "execution_count": null,
   "id": "08dd3538",
   "metadata": {},
   "outputs": [],
   "source": [
    "df3= df['description']=df['description'].fillna('Not mentioned')\n",
    "print(df3)"
   ]
  },
  {
   "cell_type": "code",
   "execution_count": null,
   "id": "46173018",
   "metadata": {},
   "outputs": [],
   "source": [
    "df.isnull().sum()"
   ]
  },
  {
   "cell_type": "markdown",
   "id": "e1b231a6",
   "metadata": {},
   "source": [
    "### Removing Outliers\n",
    "I have used plotly for better user experience and visualization. \n",
    "\n",
    "•\tI have removed outliers by using Box Plot. \n",
    "Box plots are used to show distributions of numeric data values, especially when you want to compare them between multiple groups. They are built to provide high-level information at a glance, offering general information about a group of data's symmetry, skew, variance, and outliers. "
   ]
  },
  {
   "cell_type": "code",
   "execution_count": null,
   "id": "8656d684",
   "metadata": {},
   "outputs": [],
   "source": [
    "px.box(df['No_of_BHK'])"
   ]
  },
  {
   "cell_type": "markdown",
   "id": "10438938",
   "metadata": {},
   "source": [
    "•\tFor removing Outilers , I have used IQR method.\n",
    "We can use the IQR method of identifying outliers to set up a “fence” outside of Q1 and Q3. Any values that fall outside of this fence are considered outliers. To build this fence we take 1.5 times the IQR and then subtract this value from Q1 and add this value to Q3.\n"
   ]
  },
  {
   "cell_type": "code",
   "execution_count": null,
   "id": "a62605b7",
   "metadata": {},
   "outputs": [],
   "source": [
    "Q1 = np.percentile(df[\"No_of_BHK\"], 25, interpolation = \"midpoint\")\n",
    "Q3 = np.percentile(df[\"No_of_BHK\"], 75, interpolation = \"midpoint\")\n",
    "IQR = Q3 - Q1\n",
    "min1 = Q1 - 1.5 * IQR\n",
    "max1 = Q3 + 1.5 * IQR\n",
    "print(min1, max1, IQR, Q1, Q3)"
   ]
  },
  {
   "cell_type": "code",
   "execution_count": null,
   "id": "4024e4f2",
   "metadata": {},
   "outputs": [],
   "source": [
    "df = df[(df[\"No_of_BHK\"] > min1) & (df[\"No_of_BHK\"] < max1)]\n",
    "df.shape"
   ]
  },
  {
   "cell_type": "code",
   "execution_count": null,
   "id": "17848faf",
   "metadata": {
    "scrolled": false
   },
   "outputs": [],
   "source": [
    "px.box(df['No_of_BHK'])"
   ]
  },
  {
   "cell_type": "markdown",
   "id": "c36777ca",
   "metadata": {},
   "source": [
    "## Univariate, Bivariate and Multivariate analysis with graphs and Explanations\n"
   ]
  },
  {
   "cell_type": "markdown",
   "id": "5e7a0e0d",
   "metadata": {},
   "source": [
    "### Univariate Analysis "
   ]
  },
  {
   "cell_type": "markdown",
   "id": "06eb82c9",
   "metadata": {},
   "source": [
    "The countplot is majorly used for showing the observational count in different category based bins with the help of bars.\n",
    "In this I have showed properties distribution in each city. "
   ]
  },
  {
   "cell_type": "code",
   "execution_count": null,
   "id": "b331798e",
   "metadata": {},
   "outputs": [],
   "source": [
    "fig, ax = plt.subplots(figsize=(15, 10))\n",
    "ax.set_title('Properties Distribution', fontsize=20)\n",
    "sns.countplot(x='City_name',data=df,palette='icefire_r')\n",
    "ax.set_ylabel('No of Properties', fontsize=15)\n",
    "ax.set_xlabel('City Names', fontsize=15)\n",
    "plt.xticks(rotation=45)\n",
    "plt.show()"
   ]
  },
  {
   "cell_type": "code",
   "execution_count": null,
   "id": "94b75a5a",
   "metadata": {
    "scrolled": true
   },
   "outputs": [],
   "source": [
    "df['City_name'].value_counts()"
   ]
  },
  {
   "cell_type": "markdown",
   "id": "ba980976",
   "metadata": {},
   "source": [
    "•\tI have used Countplot for No. of Properties by Price per unit area. I have taken TOP 25 values So, People will get know how many properties are there in certain price. It will make easy to buy properties"
   ]
  },
  {
   "cell_type": "code",
   "execution_count": null,
   "id": "63078215",
   "metadata": {},
   "outputs": [],
   "source": [
    "fig, ax = plt.subplots(figsize=(15, 10))\n",
    "ax.set_title('No. of Properties by Price per unit area (Top 25)', fontsize=20)\n",
    "sns.countplot(y='Price_per_unit_area', data=df, order=df.Price_per_unit_area.value_counts().index[:25])\n",
    "ax.set_xlabel('No.of Properties', fontsize=15)\n",
    "ax.set_ylabel('Price per unit area', fontsize=15)\n",
    "plt.show()"
   ]
  },
  {
   "cell_type": "markdown",
   "id": "0bd4fa0c",
   "metadata": {},
   "source": [
    "•\tI have done distribution of area of properties,in this we can see between 750-1000 sq.ft have more no.of properties. it will be easy to analysis and visualization that how many properties are there in certain area."
   ]
  },
  {
   "cell_type": "code",
   "execution_count": null,
   "id": "c7191fb9",
   "metadata": {
    "scrolled": false
   },
   "outputs": [],
   "source": [
    "df['Size'] = pd.cut(df['Size'], bins=[0, 250, 500, 750, 1000, 1250, 1500, 1750, 2000, 2250, 2500, 2750, 3000, np.inf], \n",
    "                    labels=['0-250', '250-500', '500-750', '750-1000', '1000-1250', '1250-1500', '1500-1750', '1750-2000', '2000-2250', '2250-2500', '2500-2750', '2750-3000', '3000+'])\n",
    "fig, ax = plt.subplots(figsize=(15, 10))\n",
    "ax.set_title('Area Distribution', fontsize=20)\n",
    "sns.countplot(x='Size', data=df)\n",
    "ax.set_ylabel('No of Properties', fontsize=15)\n",
    "ax.set_xlabel('Area Ranges', fontsize=15)\n",
    "plt.xticks(rotation=45)\n",
    "plt.show()"
   ]
  },
  {
   "cell_type": "markdown",
   "id": "ae699724",
   "metadata": {},
   "source": [
    "I have used Pie chart to show how much percentage of apartments are there in my dataset."
   ]
  },
  {
   "cell_type": "code",
   "execution_count": null,
   "id": "34438a5c",
   "metadata": {},
   "outputs": [],
   "source": [
    "plt.figure(figsize = (10, 5))\n",
    "\n",
    "data = df['is_Apartment'].value_counts()\n",
    "colors = sns.color_palette('icefire')\n",
    "labels = ['True', 'False']\n",
    "\n",
    "plt.pie(data, labels = labels, autopct = '%.0f%%', colors = colors)\n",
    "plt.title('Total percentage of apartments')\n",
    "\n",
    "plt.tight_layout()"
   ]
  },
  {
   "cell_type": "markdown",
   "id": "c1be5999",
   "metadata": {},
   "source": [
    "I have showed no.of properties are there in each BHK."
   ]
  },
  {
   "cell_type": "code",
   "execution_count": null,
   "id": "972d2bdc",
   "metadata": {},
   "outputs": [],
   "source": [
    "fig, ax = plt.subplots(figsize=(15, 10))\n",
    "ax.set_title('No. of Properties with certain BHKs', fontsize=20)\n",
    "sns.countplot(x='No_of_BHK', data=df, palette='tab20' )\n",
    "ax.set_ylabel('No of Properties', fontsize=15)\n",
    "ax.set_xlabel('No. of Bedrooms', fontsize=15)\n",
    "plt.xticks(rotation=45)\n",
    "plt.show()"
   ]
  },
  {
   "cell_type": "code",
   "execution_count": null,
   "id": "b7c1d6e3",
   "metadata": {
    "scrolled": true
   },
   "outputs": [],
   "source": [
    "px.scatter(df.index, df['listing_domain_score'],\n",
    "                title=\"Listing domain score\")"
   ]
  },
  {
   "cell_type": "markdown",
   "id": "698a1f54",
   "metadata": {},
   "source": [
    "The distplot represents the univariate distribution of data i.e. data distribution of a variable against the density distribution.Here, i have done distribution of properties price"
   ]
  },
  {
   "cell_type": "code",
   "execution_count": null,
   "id": "f1097f3a",
   "metadata": {},
   "outputs": [],
   "source": [
    "plt.figure(figsize=(10,6))\n",
    "plt.title(\"Distribution of properties Price\")\n",
    "dist = sns.distplot(np.log(df['Price']),norm_hist=False)"
   ]
  },
  {
   "cell_type": "markdown",
   "id": "b01b399f",
   "metadata": {},
   "source": [
    "## Bivariate Analysis \n",
    "\n",
    "I have used relplot. The one we will use most is relplot(). This is a figure-level function for visualizing statistical relationships using two common approaches: scatter plots and line plots.Here, I have done relplot between city names and Property types."
   ]
  },
  {
   "cell_type": "code",
   "execution_count": null,
   "id": "a100aeed",
   "metadata": {
    "scrolled": true
   },
   "outputs": [],
   "source": [
    "sns.relplot(data=df, x=df[\"City_name\"], y=df[\"Property_type\"], hue=df[\"City_name\"],sizes=(3000,100000),height=3,aspect=4)"
   ]
  },
  {
   "cell_type": "markdown",
   "id": "90b675c4",
   "metadata": {},
   "source": [
    "•\tI have used Histogram to show properties status in each city.\n",
    "It is used to summarize discrete or continuous data that are measured on an interval scale. It is often used to illustrate the major features of the distribution of the data in a convenient form.\n"
   ]
  },
  {
   "cell_type": "code",
   "execution_count": null,
   "id": "5934bf10",
   "metadata": {
    "scrolled": false
   },
   "outputs": [],
   "source": [
    "sns.set(rc={'figure.figsize':(15,10)})\n",
    "sns.set (font_scale=1.5)\n",
    "sns.histplot(data=df, x=\"City_name\", hue=\"Property_status\", multiple=\"stack\")"
   ]
  },
  {
   "cell_type": "markdown",
   "id": "f69ddc6d",
   "metadata": {},
   "source": [
    "I have used histplot for city names and property is furnished."
   ]
  },
  {
   "cell_type": "code",
   "execution_count": null,
   "id": "5f145fe8",
   "metadata": {},
   "outputs": [],
   "source": [
    "sns.histplot(df, x=\"City_name\", y=\"is_furnished\", hue=\"is_furnished\", legend=False)"
   ]
  },
  {
   "cell_type": "markdown",
   "id": "9bbe5537",
   "metadata": {},
   "source": [
    "•\tI have done Scatter plot for Numerical and Categorical value. Title is India Metropolitan Areas: Price vs Area"
   ]
  },
  {
   "cell_type": "code",
   "execution_count": null,
   "id": "59230779",
   "metadata": {},
   "outputs": [],
   "source": [
    "sns.scatterplot(x=df['Price'], y=df['City_name'])\n",
    "plt.xlabel('Price')\n",
    "plt.ylabel('City_name')\n",
    "plt.title('Price in each Metropolitan City');"
   ]
  },
  {
   "cell_type": "markdown",
   "id": "075a7539",
   "metadata": {},
   "source": [
    "RERA registration is important for gated society. Most properties will be in society. So I have done analysis on city names and RERA registered columns. "
   ]
  },
  {
   "cell_type": "code",
   "execution_count": null,
   "id": "e7aa7a69",
   "metadata": {},
   "outputs": [],
   "source": [
    "sns.set(rc={'figure.figsize':(15,10)})\n",
    "sns.set (font_scale=1.5)\n",
    "sns.histplot(data=df, x=\"City_name\", hue=\"is_RERA_registered\", multiple=\"stack\",kde=True, palette='husl')"
   ]
  },
  {
   "cell_type": "code",
   "execution_count": null,
   "id": "7b31ee3e",
   "metadata": {
    "scrolled": true
   },
   "outputs": [],
   "source": [
    "df.groupby('No_of_BHK')['is_Apartment'].value_counts().unstack()"
   ]
  },
  {
   "cell_type": "markdown",
   "id": "27fb54a0",
   "metadata": {},
   "source": [
    "## Maping using Folium\n",
    "•\tMaping Using Folium: Folium is a powerful Python library that helps you create several types of Leaflet maps. By default, Folium creates a map in a separate HTML file. Since Folium results are interactive, this library is very useful for dashboard building. You can also create inline Jupyter maps in Folium.\n",
    "\n",
    "•\tI have imported folium, geopandas, geopy, and I have done plugins HeatMap in it after giving Latitude and Longitude columns Map is shown as below.\n"
   ]
  },
  {
   "cell_type": "code",
   "execution_count": null,
   "id": "aa1e885f",
   "metadata": {},
   "outputs": [],
   "source": [
    "import gc\n",
    "import geopandas as gpd\n",
    "import matplotlib.pyplot as plt\n",
    "\n",
    "import folium\n",
    "from folium.plugins import HeatMap\n",
    "import geopy as gp\n"
   ]
  },
  {
   "cell_type": "code",
   "execution_count": null,
   "id": "b11b61c8",
   "metadata": {
    "scrolled": false
   },
   "outputs": [],
   "source": [
    "maps = folium.Map(location = (df['Latitude'].mean(),df['Longitude'].mean()),zoom_start=7,min_zoom=5,max_zoom=10)\n",
    "hm = HeatMap(data = df.groupby(['Latitude','Longitude']).size().reset_index(),radius=12,blur=15,opacity=0.8)\n",
    "hm.add_to(maps)\n",
    "\n",
    "maps"
   ]
  },
  {
   "cell_type": "markdown",
   "id": "197a622f",
   "metadata": {},
   "source": [
    "# Multivariate \n",
    "•\tThe statistical study of data where multiple measurements are made on each experimental unit and where the relationships among multivariate measurements and their structure are important.\n",
    "•\tI have used Heatmaps, a heatmap is a useful visualization method to illustrate multivariate data when there are many variables to compare, such as in a big data analysis. It is a plot that displays values in a color scale in a grid.\n",
    "\n"
   ]
  },
  {
   "cell_type": "code",
   "execution_count": null,
   "id": "8063dcde",
   "metadata": {},
   "outputs": [],
   "source": [
    "num=df.select_dtypes(exclude=['object','int'])\n",
    "numeric_correlation=num.corr()\n",
    "plt.figure(figsize=(10,10))\n",
    "plt.title('Correlation')\n",
    "sns.heatmap(numeric_correlation>0.8, annot=True, square=True)"
   ]
  },
  {
   "cell_type": "code",
   "execution_count": null,
   "id": "1e82b1c2",
   "metadata": {
    "scrolled": true
   },
   "outputs": [],
   "source": [
    "print(numeric_correlation['Price'].sort_values(ascending=False))"
   ]
  },
  {
   "cell_type": "markdown",
   "id": "17662f91",
   "metadata": {},
   "source": [
    "•\tI have used relpolt Plot for 4 columns, between No_of_BHK, City name, Price and is_Apartment. This plot shows the relationship between two numeric features by using dots to visualize how these variables move together"
   ]
  },
  {
   "cell_type": "code",
   "execution_count": null,
   "id": "ddf82741",
   "metadata": {},
   "outputs": [],
   "source": [
    "sns.relplot(data=df, x=df[\"City_name\"], y=df[\"No_of_BHK\"], hue=df[\"City_name\"],size=\"Price\", row=df[\"is_Apartment\"])"
   ]
  },
  {
   "cell_type": "markdown",
   "id": "ea3b046e",
   "metadata": {},
   "source": [
    "•\tI have used Scatter Plot for 3 columns, between Price_per_unit_area, No_of_BHK and City name. This plot shows the relationship between two numeric features by using dots to visualize how these variables move together"
   ]
  },
  {
   "cell_type": "code",
   "execution_count": null,
   "id": "1175ae8a",
   "metadata": {},
   "outputs": [],
   "source": [
    "plt.figure(figsize = (15, 7))\n",
    "sns.scatterplot(x='Price_per_unit_area', y='No_of_BHK', data=df, hue='City_name',palette=\"deep\")\n",
    "\n",
    "plt.show()"
   ]
  },
  {
   "cell_type": "markdown",
   "id": "a3152076",
   "metadata": {},
   "source": [
    "•\tMaping for Top 30 Locality Name: I have created new dataframe which contains Top 30 Locality Names , Latitude , Longitude. I have used Folium for map and given  Locations and Locality names and used marker to mark locations"
   ]
  },
  {
   "cell_type": "code",
   "execution_count": null,
   "id": "374d52a4",
   "metadata": {},
   "outputs": [],
   "source": [
    "locality_name = df.Locality_Name.value_counts().index[:30]\n",
    "latitude = df.Latitude.value_counts().index[:30]\n",
    "longitude = df.Longitude.value_counts().index[:30]"
   ]
  },
  {
   "cell_type": "code",
   "execution_count": null,
   "id": "8a36638d",
   "metadata": {},
   "outputs": [],
   "source": [
    "df2 = pd.DataFrame(locality_name)\n",
    "df2['Latitude'] = latitude\n",
    "df2['Longitude'] = longitude\n",
    "df2.rename(columns = {0:'Locality Name'}, inplace=True)"
   ]
  },
  {
   "cell_type": "code",
   "execution_count": null,
   "id": "fc8198ff",
   "metadata": {},
   "outputs": [],
   "source": [
    "a_list = df2[['Locality Name','Latitude','Longitude']].values.tolist()"
   ]
  },
  {
   "cell_type": "code",
   "execution_count": null,
   "id": "8952d3d8",
   "metadata": {
    "scrolled": false
   },
   "outputs": [],
   "source": [
    "property_map= folium.Map(location=[28.71248436,77.15420532])\n",
    "fg=folium.FeatureGroup(name=\"Location of Top 25 Locality areas\")\n",
    "\n",
    "for i in a_list:\n",
    "    fg.add_child(folium.Marker(location=[i[1] ,i[2]],popup=i[0],icon=folium.Icon(color=\"green\")))\n",
    "property_map.add_child(fg)"
   ]
  },
  {
   "cell_type": "markdown",
   "id": "8bd6bfde",
   "metadata": {},
   "source": [
    "### Conclusion:\n",
    "\n",
    "•\tIn this paper, we developed several analyses to predict the price of a house based on some of its features. In this paper, we followed the data science process from collecting data to cleaning and preprocessing it, then exploring the data, evaluating the results, and communicating them through visualisations.\n",
    "\n",
    "•\tFirst, we have taken the data set and performed some statistical methods to better understand the dataset. We have checked the shape and got to know that we have 332097 rows, 32 columns  of data.\n",
    "\n",
    "•\tWe should remove the outliers using some statistical methods like considering the values within the 1.5 times the Interquartile Range (which is the statistically ideal range in which outliers are not present). To perform this task, we have calculated the Quartiles. Interquartile Range can be calculated by using the following formula: IQR = Q3 - Q1. The range without outlier is [1.5IQR+Q1, Q3+1.5IQR].\n",
    "\n",
    "•\tThere are more than 2500 properties that have unit price per square feet more than 3600 Rupees.\n",
    "\n",
    "•\tThere are 94,272 properties that are under Makaan company in Mumbai which is the highest.\n",
    "\n",
    "•\tThere are 57% of apartments out of all the properties registered under Makaan.\n",
    "\n",
    "•\tThere are about 90 thousand houses that are with 2 BHKs and RK houses.\n",
    "\n",
    "•\tThe distribution of the properties price is a left skewed distribution curve.\n",
    "\n",
    "•\tThere are more Under Construction Buildings and Ready to move properties in Mumbai.\n",
    "\n",
    "•\tThere are more empty values in Lucknow.\n",
    "\n",
    "•\tThere are more Unfurnished, Semi-Furnished and Furnished properties in Mumbai.\n",
    "\n",
    "•\tDelhi is more expensive then other cities and Mumbai city have more properties. Some Locality areas are cheap and some are expensive. By this Analysis we can buy properties according to our status.\n"
   ]
  }
 ],
 "metadata": {
  "kernelspec": {
   "display_name": "Python 3 (ipykernel)",
   "language": "python",
   "name": "python3"
  },
  "language_info": {
   "codemirror_mode": {
    "name": "ipython",
    "version": 3
   },
   "file_extension": ".py",
   "mimetype": "text/x-python",
   "name": "python",
   "nbconvert_exporter": "python",
   "pygments_lexer": "ipython3",
   "version": "3.9.7"
  }
 },
 "nbformat": 4,
 "nbformat_minor": 5
}
